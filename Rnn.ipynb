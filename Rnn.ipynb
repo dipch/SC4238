{
  "nbformat": 4,
  "nbformat_minor": 0,
  "metadata": {
    "colab": {
      "name": "Untitled0.ipynb",
      "provenance": [],
      "collapsed_sections": [
        "a-HrkYD9a-XE"
      ]
    },
    "kernelspec": {
      "name": "python3",
      "display_name": "Python 3"
    },
    "language_info": {
      "name": "python"
    },
    "accelerator": "GPU"
  },
  "cells": [
    {
      "cell_type": "markdown",
      "metadata": {
        "id": "VJUh65SuGDl6"
      },
      "source": [
        "\n",
        ">**Course No** : CSE4238\n",
        "\n",
        ">**Course Title** : Soft Computing Lab\n",
        "\n",
        ">**Assignment No** : 03\n",
        "\n",
        ">**Submitted By**:  **`170104003`**  Dip Chowdhury   \n",
        "\n",
        "---"
      ]
    },
    {
      "cell_type": "markdown",
      "metadata": {
        "id": "t48zXvrsZR_c"
      },
      "source": [
        "# **Google Drive Connect & Navigate Directory**"
      ]
    },
    {
      "cell_type": "code",
      "metadata": {
        "colab": {
          "base_uri": "https://localhost:8080/"
        },
        "id": "UZgdfctdygYS",
        "outputId": "5c7ee356-1383-4dd9-bc96-831bc021b780"
      },
      "source": [
        "from google.colab import drive\n",
        "drive.mount('/content/drive')"
      ],
      "execution_count": 1,
      "outputs": [
        {
          "output_type": "stream",
          "name": "stdout",
          "text": [
            "Mounted at /content/drive\n"
          ]
        }
      ]
    },
    {
      "cell_type": "code",
      "metadata": {
        "colab": {
          "base_uri": "https://localhost:8080/"
        },
        "id": "nLGmxy4QNjIX",
        "outputId": "62274621-91dd-4948-fa43-c4210826eaae"
      },
      "source": [
        "%cd /content/drive/My Drive/SC/Assignment_3"
      ],
      "execution_count": 2,
      "outputs": [
        {
          "output_type": "stream",
          "name": "stdout",
          "text": [
            "/content/drive/My Drive/SC/Assignment_3\n"
          ]
        }
      ]
    },
    {
      "cell_type": "markdown",
      "metadata": {
        "id": "a-HrkYD9a-XE"
      },
      "source": [
        "# **Import Libraries**"
      ]
    },
    {
      "cell_type": "code",
      "metadata": {
        "colab": {
          "base_uri": "https://localhost:8080/",
          "height": 33
        },
        "id": "Zld-iDt9JURo",
        "outputId": "012dc684-709b-4646-91c0-38e863149b10"
      },
      "source": [
        "import os, re, sys, pprint, string, math, time, copy\n",
        "import warnings, random, helper, shutil, cv2\n",
        "random.seed(5)\n",
        "warnings.filterwarnings('ignore')\n",
        "from datetime import datetime\n",
        "import IPython.display as ipd\n",
        "from IPython.display import IFrame, display, HTML\n",
        "\n",
        "\n",
        "import pandas as pd\n",
        "pd.set_option('display.max_rows', None)\n",
        "pd.set_option('display.max_columns', None)\n",
        "pd.set_option('display.width', None)\n",
        "pd.set_option('display.max_colwidth', -1)\n",
        "\n",
        "# Plotting library\n",
        "import matplotlib.pyplot as plt\n",
        "# tells matplotlib to embed plots within the notebook\n",
        "%matplotlib inline\n",
        "plt.set_cmap('viridis')\n",
        "plt.style.use('fivethirtyeight')\n",
        "import matplotlib.cm as cm\n",
        "\n",
        "# Scientific and vector computation for python\n",
        "import numpy as np\n",
        "np.random.seed(5)\n",
        "\n",
        "\n",
        "# Import seaborn\n",
        "import seaborn as sns\n",
        "# Apply the default theme\n",
        "sns.set_theme()\n",
        "\n",
        "from PIL import ImageFile, Image\n",
        "from textblob import TextBlob\n",
        "from wordcloud import WordCloud, STOPWORDS, ImageColorGenerator\n",
        "\n",
        "from sklearn.model_selection import KFold, cross_val_score, train_test_split, RepeatedStratifiedKFold, RepeatedKFold, RandomizedSearchCV\n",
        "from sklearn import preprocessing\n",
        "from sklearn.metrics import mean_squared_error, confusion_matrix, accuracy_score, f1_score, precision_score, recall_score, roc_auc_score\n",
        "\n",
        "\n",
        "from sklearn import tree\n",
        "from sklearn.tree import DecisionTreeRegressor,DecisionTreeClassifier\n",
        "from sklearn.ensemble import RandomForestClassifier,RandomForestRegressor\n",
        "from sklearn.linear_model import Lasso,Ridge,BayesianRidge,ElasticNet,HuberRegressor,LinearRegression,LogisticRegression,SGDRegressor,LinearRegression,ElasticNet,BayesianRidge\n",
        "from sklearn.ensemble import GradientBoostingRegressor,GradientBoostingClassifier\n",
        "from sklearn.ensemble import AdaBoostRegressor,AdaBoostClassifier\n",
        "from sklearn.ensemble import ExtraTreesRegressor,ExtraTreesClassifier\n",
        "from sklearn.neighbors import KNeighborsRegressor,KNeighborsClassifier\n",
        "from sklearn.kernel_ridge import KernelRidge\n",
        "from sklearn.svm import SVR,SVC\n",
        "from sklearn.naive_bayes import GaussianNB\n",
        "from sklearn.neural_network import MLPRegressor\n",
        "from sklearn.feature_extraction.text import TfidfVectorizer,CountVectorizer\n",
        "from sklearn.decomposition import PCA\n",
        "from sklearn.model_selection import GridSearchCV\n",
        "\n",
        "from xgboost import XGBRegressor\n",
        "from lightgbm import LGBMRegressor\n",
        "from mlxtend.regressor import  StackingCVRegressor\n",
        "\n",
        "\n",
        "\n",
        "# !pip install -Uqq fastbook\n",
        "# import fastbook\n",
        "# fastbook.setup_book()\n",
        "# from fastai.vision.all import *\n",
        "# from fastbook import *\n",
        "import torch\n",
        "import torchvision\n",
        "import torch.nn as nn\n",
        "import torch.nn.functional as F\n",
        "import torch.optim as optim\n",
        "from torch.optim import lr_scheduler\n",
        "from torchvision import datasets, models, transforms\n",
        "from torchsummary import summary\n",
        "from torch.utils.data import Subset, DataLoader, ConcatDataset, Dataset\n",
        "\n",
        "\n",
        "\n",
        "\n",
        "import librosa # for music and audio analysis\n",
        "import librosa.display # for audio visualization\n",
        "import soundfile as sf # librosa fails when reading files on Kaggle."
      ],
      "execution_count": 3,
      "outputs": [
        {
          "output_type": "display_data",
          "data": {
            "text/plain": [
              "<Figure size 432x288 with 0 Axes>"
            ]
          },
          "metadata": {}
        }
      ]
    },
    {
      "cell_type": "code",
      "metadata": {
        "id": "tbJc5ZlrZ-_-"
      },
      "source": [
        "#df.tail()\n",
        "import tensorflow as tf\n",
        "import matplotlib.pyplot as plt\n",
        "from keras.preprocessing.text import Tokenizer\n",
        "from keras.preprocessing.sequence import pad_sequences\n",
        "from keras.models import Sequential\n",
        "from keras import layers\n",
        "from keras import backend as K\n",
        "from keras.utils.vis_utils import plot_model"
      ],
      "execution_count": 16,
      "outputs": []
    },
    {
      "cell_type": "markdown",
      "metadata": {
        "id": "ed8Qjfpfb7Az"
      },
      "source": [
        "# Download/Import Dataset"
      ]
    },
    {
      "cell_type": "code",
      "metadata": {
        "id": "Sem9CXxvJyIm"
      },
      "source": [
        "# Dataset Link https://drive.google.com/file/d/xxxxxxxxxxxxxxxxxxxxxxxxxxxxxxxx/view\n",
        "# Download\n",
        "# !gdown --id xxxxxxxxxxxxxxxxxxxxxxxxxxxxxxxx\n",
        "# Unzip \n",
        "# !unzip \"/content/drive/My Drive/xx.zip\" -d \"/content/drive/My Drive/\""
      ],
      "execution_count": null,
      "outputs": []
    },
    {
      "cell_type": "code",
      "metadata": {
        "id": "gWEMRrNY6PVP"
      },
      "source": [
        "dir_path = '/content/drive/My Drive/SC/Assignment_3/'"
      ],
      "execution_count": 4,
      "outputs": []
    },
    {
      "cell_type": "code",
      "metadata": {
        "colab": {
          "base_uri": "https://localhost:8080/",
          "height": 202
        },
        "id": "BFsCNTXXZJeJ",
        "outputId": "dcb0a3dd-a31c-4801-c94e-74128c15c9dd"
      },
      "source": [
        "df = pd.read_csv('Dataset 1.csv', encoding='ISO-8859-1')\n",
        "df.head()"
      ],
      "execution_count": null,
      "outputs": [
        {
          "output_type": "execute_result",
          "data": {
            "text/html": [
              "<div>\n",
              "<style scoped>\n",
              "    .dataframe tbody tr th:only-of-type {\n",
              "        vertical-align: middle;\n",
              "    }\n",
              "\n",
              "    .dataframe tbody tr th {\n",
              "        vertical-align: top;\n",
              "    }\n",
              "\n",
              "    .dataframe thead th {\n",
              "        text-align: right;\n",
              "    }\n",
              "</style>\n",
              "<table border=\"1\" class=\"dataframe\">\n",
              "  <thead>\n",
              "    <tr style=\"text-align: right;\">\n",
              "      <th></th>\n",
              "      <th>message</th>\n",
              "      <th>label</th>\n",
              "    </tr>\n",
              "  </thead>\n",
              "  <tbody>\n",
              "    <tr>\n",
              "      <th>0</th>\n",
              "      <td>just had a real good moment. i missssssssss him so much,</td>\n",
              "      <td>0</td>\n",
              "    </tr>\n",
              "    <tr>\n",
              "      <th>1</th>\n",
              "      <td>is reading manga  http://plurk.com/p/mzp1e</td>\n",
              "      <td>0</td>\n",
              "    </tr>\n",
              "    <tr>\n",
              "      <th>2</th>\n",
              "      <td>@comeagainjen http://twitpic.com/2y2lx - http://www.youtube.com/watch?v=zoGfqvh2ME8</td>\n",
              "      <td>0</td>\n",
              "    </tr>\n",
              "    <tr>\n",
              "      <th>3</th>\n",
              "      <td>@lapcat Need to send 'em to my accountant tomorrow. Oddly, I wasn't even referring to my taxes. Those are supporting evidence, though.</td>\n",
              "      <td>0</td>\n",
              "    </tr>\n",
              "    <tr>\n",
              "      <th>4</th>\n",
              "      <td>ADD ME ON MYSPACE!!!  myspace.com/LookThunder</td>\n",
              "      <td>0</td>\n",
              "    </tr>\n",
              "  </tbody>\n",
              "</table>\n",
              "</div>"
            ],
            "text/plain": [
              "                                                                                                                                   message  \\\n",
              "0  just had a real good moment. i missssssssss him so much,                                                                                  \n",
              "1  is reading manga  http://plurk.com/p/mzp1e                                                                                                \n",
              "2  @comeagainjen http://twitpic.com/2y2lx - http://www.youtube.com/watch?v=zoGfqvh2ME8                                                       \n",
              "3  @lapcat Need to send 'em to my accountant tomorrow. Oddly, I wasn't even referring to my taxes. Those are supporting evidence, though.    \n",
              "4  ADD ME ON MYSPACE!!!  myspace.com/LookThunder                                                                                             \n",
              "\n",
              "   label  \n",
              "0  0      \n",
              "1  0      \n",
              "2  0      \n",
              "3  0      \n",
              "4  0      "
            ]
          },
          "metadata": {},
          "execution_count": 5
        }
      ]
    },
    {
      "cell_type": "markdown",
      "metadata": {
        "id": "_C8E2HGDUwul"
      },
      "source": [
        "# Pre-Processing"
      ]
    },
    {
      "cell_type": "code",
      "metadata": {
        "colab": {
          "base_uri": "https://localhost:8080/",
          "height": 202
        },
        "id": "PqxyfDppaF6I",
        "outputId": "ead7f18f-96c5-4cbb-b2cb-bd8fcf165acc"
      },
      "source": [
        "df.drop(10313,inplace=True)\n",
        "df.tail()"
      ],
      "execution_count": null,
      "outputs": [
        {
          "output_type": "execute_result",
          "data": {
            "text/html": [
              "<div>\n",
              "<style scoped>\n",
              "    .dataframe tbody tr th:only-of-type {\n",
              "        vertical-align: middle;\n",
              "    }\n",
              "\n",
              "    .dataframe tbody tr th {\n",
              "        vertical-align: top;\n",
              "    }\n",
              "\n",
              "    .dataframe thead th {\n",
              "        text-align: right;\n",
              "    }\n",
              "</style>\n",
              "<table border=\"1\" class=\"dataframe\">\n",
              "  <thead>\n",
              "    <tr style=\"text-align: right;\">\n",
              "      <th></th>\n",
              "      <th>message</th>\n",
              "      <th>label</th>\n",
              "    </tr>\n",
              "  </thead>\n",
              "  <tbody>\n",
              "    <tr>\n",
              "      <th>10308</th>\n",
              "      <td>Many sufferers of depression aren't sad; they feel nothing at all, or a persistent and nagging anxiety.</td>\n",
              "      <td>1</td>\n",
              "    </tr>\n",
              "    <tr>\n",
              "      <th>10309</th>\n",
              "      <td>No Depression by G Herbo is my mood from now on, i'm done stressing over people that don't deserve it</td>\n",
              "      <td>1</td>\n",
              "    </tr>\n",
              "    <tr>\n",
              "      <th>10310</th>\n",
              "      <td>What do you do when depression succumbs the brain and makes you feel like you'll never be enough?</td>\n",
              "      <td>1</td>\n",
              "    </tr>\n",
              "    <tr>\n",
              "      <th>10311</th>\n",
              "      <td>Ketamine Nasal Spray Shows Promise Against Depression, Suicide #health https://cmun.it/4sjligkÃÂ</td>\n",
              "      <td>1</td>\n",
              "    </tr>\n",
              "    <tr>\n",
              "      <th>10312</th>\n",
              "      <td>dont mistake a bad day with depression! everyone has 'em!</td>\n",
              "      <td>1</td>\n",
              "    </tr>\n",
              "  </tbody>\n",
              "</table>\n",
              "</div>"
            ],
            "text/plain": [
              "                                                                                                       message  \\\n",
              "10308  Many sufferers of depression aren't sad; they feel nothing at all, or a persistent and nagging anxiety.   \n",
              "10309  No Depression by G Herbo is my mood from now on, i'm done stressing over people that don't deserve it     \n",
              "10310  What do you do when depression succumbs the brain and makes you feel like you'll never be enough?         \n",
              "10311  Ketamine Nasal Spray Shows Promise Against Depression, Suicide #health https://cmun.it/4sjligkÃÂ         \n",
              "10312  dont mistake a bad day with depression! everyone has 'em!                                                 \n",
              "\n",
              "       label  \n",
              "10308  1      \n",
              "10309  1      \n",
              "10310  1      \n",
              "10311  1      \n",
              "10312  1      "
            ]
          },
          "metadata": {},
          "execution_count": 7
        }
      ]
    },
    {
      "cell_type": "code",
      "metadata": {
        "id": "Mj9eTkzAZ90A"
      },
      "source": [
        "import re\n",
        "def remove(text):\n",
        "    return re.sub(r\"[,.\\\"!@#$%^&*(){}?/;`~:<>+=-]\", \"\", text)\n",
        "\n",
        "\n",
        "def remove_username(text):\n",
        "    return re.sub(r\"(?:@[\\w_]+)\", \"\", text)\n",
        "\n",
        "def remove_url(text):\n",
        "    return re.sub(r\"http[s]?://(?:[a-z]|[0-9]|[$-_@.&+]|[!*\\(\\),]|(?:%[0-9a-f][0-9a-f]))+\", \"\", text)\n",
        "\n",
        "def remove_numbers(text):\n",
        "    return re.sub(r\"(?:(?:\\d+,?)+(?:\\.?\\d+)?)\", \"\", text)\n",
        "\n",
        "def remove_punctuation(text):\n",
        "    return re.sub(r\"[-()\\\"#/@;:<>{}`+=~|.!?,]\", \"\", text)\n",
        "\n",
        "def remove_multiple_spaces(text):\n",
        "    return re.sub(r\" +\", \" \", text)\n",
        "\n",
        "def remove_newline_lowercase(text):\n",
        "    return re.sub(r\"\\n\", \" \", text).lower()\n",
        "\n",
        "df['message'] = df['message'].apply(lambda x: remove_username(x))\n",
        "df['message'] = df['message'].apply(lambda x: remove_url(x))\n",
        "df['message'] = df['message'].apply(lambda x: remove_numbers(x))\n",
        "df['message'] = df['message'].apply(lambda x: remove_punctuation(x))\n",
        "df['message'] = df['message'].apply(lambda x: remove_multiple_spaces(x))\n",
        "df['message'] = df['message'].apply(lambda x: remove_newline_lowercase(x))"
      ],
      "execution_count": null,
      "outputs": []
    },
    {
      "cell_type": "code",
      "metadata": {
        "colab": {
          "base_uri": "https://localhost:8080/",
          "height": 202
        },
        "id": "4SsKz9WYhqsr",
        "outputId": "fc53a543-aa75-4b1a-93b4-26d3ebc86eb6"
      },
      "source": [
        "df.head()"
      ],
      "execution_count": null,
      "outputs": [
        {
          "output_type": "execute_result",
          "data": {
            "text/html": [
              "<div>\n",
              "<style scoped>\n",
              "    .dataframe tbody tr th:only-of-type {\n",
              "        vertical-align: middle;\n",
              "    }\n",
              "\n",
              "    .dataframe tbody tr th {\n",
              "        vertical-align: top;\n",
              "    }\n",
              "\n",
              "    .dataframe thead th {\n",
              "        text-align: right;\n",
              "    }\n",
              "</style>\n",
              "<table border=\"1\" class=\"dataframe\">\n",
              "  <thead>\n",
              "    <tr style=\"text-align: right;\">\n",
              "      <th></th>\n",
              "      <th>message</th>\n",
              "      <th>label</th>\n",
              "    </tr>\n",
              "  </thead>\n",
              "  <tbody>\n",
              "    <tr>\n",
              "      <th>0</th>\n",
              "      <td>just had a real good moment i missssssssss him so much</td>\n",
              "      <td>0</td>\n",
              "    </tr>\n",
              "    <tr>\n",
              "      <th>1</th>\n",
              "      <td>is reading manga</td>\n",
              "      <td>0</td>\n",
              "    </tr>\n",
              "    <tr>\n",
              "      <th>2</th>\n",
              "      <td></td>\n",
              "      <td>0</td>\n",
              "    </tr>\n",
              "    <tr>\n",
              "      <th>3</th>\n",
              "      <td>need to send 'em to my accountant tomorrow oddly i wasn't even referring to my taxes those are supporting evidence though</td>\n",
              "      <td>0</td>\n",
              "    </tr>\n",
              "    <tr>\n",
              "      <th>4</th>\n",
              "      <td>add me on myspace myspacecomlookthunder</td>\n",
              "      <td>0</td>\n",
              "    </tr>\n",
              "  </tbody>\n",
              "</table>\n",
              "</div>"
            ],
            "text/plain": [
              "                                                                                                                       message  \\\n",
              "0  just had a real good moment i missssssssss him so much                                                                        \n",
              "1  is reading manga                                                                                                              \n",
              "2                                                                                                                                \n",
              "3   need to send 'em to my accountant tomorrow oddly i wasn't even referring to my taxes those are supporting evidence though    \n",
              "4  add me on myspace myspacecomlookthunder                                                                                       \n",
              "\n",
              "   label  \n",
              "0  0      \n",
              "1  0      \n",
              "2  0      \n",
              "3  0      \n",
              "4  0      "
            ]
          },
          "metadata": {},
          "execution_count": 9
        }
      ]
    },
    {
      "cell_type": "code",
      "metadata": {
        "colab": {
          "base_uri": "https://localhost:8080/",
          "height": 202
        },
        "id": "pNb5lTyQiU9N",
        "outputId": "c44dba11-1cd0-461a-85ed-a76d6a7b80f7"
      },
      "source": [
        "nan_value = float(\"NaN\")\n",
        "df.replace(\" \", nan_value, inplace=True)\n",
        "df.dropna(subset = [\"message\"], inplace=True)\n",
        "df.head()"
      ],
      "execution_count": null,
      "outputs": [
        {
          "output_type": "execute_result",
          "data": {
            "text/html": [
              "<div>\n",
              "<style scoped>\n",
              "    .dataframe tbody tr th:only-of-type {\n",
              "        vertical-align: middle;\n",
              "    }\n",
              "\n",
              "    .dataframe tbody tr th {\n",
              "        vertical-align: top;\n",
              "    }\n",
              "\n",
              "    .dataframe thead th {\n",
              "        text-align: right;\n",
              "    }\n",
              "</style>\n",
              "<table border=\"1\" class=\"dataframe\">\n",
              "  <thead>\n",
              "    <tr style=\"text-align: right;\">\n",
              "      <th></th>\n",
              "      <th>message</th>\n",
              "      <th>label</th>\n",
              "    </tr>\n",
              "  </thead>\n",
              "  <tbody>\n",
              "    <tr>\n",
              "      <th>0</th>\n",
              "      <td>just had a real good moment i missssssssss him so much</td>\n",
              "      <td>0</td>\n",
              "    </tr>\n",
              "    <tr>\n",
              "      <th>1</th>\n",
              "      <td>is reading manga</td>\n",
              "      <td>0</td>\n",
              "    </tr>\n",
              "    <tr>\n",
              "      <th>3</th>\n",
              "      <td>need to send 'em to my accountant tomorrow oddly i wasn't even referring to my taxes those are supporting evidence though</td>\n",
              "      <td>0</td>\n",
              "    </tr>\n",
              "    <tr>\n",
              "      <th>4</th>\n",
              "      <td>add me on myspace myspacecomlookthunder</td>\n",
              "      <td>0</td>\n",
              "    </tr>\n",
              "    <tr>\n",
              "      <th>5</th>\n",
              "      <td>so sleepy good times tonight though</td>\n",
              "      <td>0</td>\n",
              "    </tr>\n",
              "  </tbody>\n",
              "</table>\n",
              "</div>"
            ],
            "text/plain": [
              "                                                                                                                       message  \\\n",
              "0  just had a real good moment i missssssssss him so much                                                                        \n",
              "1  is reading manga                                                                                                              \n",
              "3   need to send 'em to my accountant tomorrow oddly i wasn't even referring to my taxes those are supporting evidence though    \n",
              "4  add me on myspace myspacecomlookthunder                                                                                       \n",
              "5  so sleepy good times tonight though                                                                                           \n",
              "\n",
              "   label  \n",
              "0  0      \n",
              "1  0      \n",
              "3  0      \n",
              "4  0      \n",
              "5  0      "
            ]
          },
          "metadata": {},
          "execution_count": 10
        }
      ]
    },
    {
      "cell_type": "code",
      "metadata": {
        "id": "gn8tuf4z8OCm"
      },
      "source": [
        "import spacy\n",
        "nlp = spacy.load('en_core_web_sm')\n",
        "spacy_stopwords = spacy.lang.en.stop_words.STOP_WORDS\n",
        "df['message'] = df['message'].apply(lambda x: ' '.join([word for word in x.split() if word not in (spacy_stopwords)]))"
      ],
      "execution_count": null,
      "outputs": []
    },
    {
      "cell_type": "code",
      "metadata": {
        "colab": {
          "base_uri": "https://localhost:8080/",
          "height": 202
        },
        "id": "FWGkU-lGB1iZ",
        "outputId": "f11db0e0-0a6e-46c8-bf96-a1500c567149"
      },
      "source": [
        "df.tail()"
      ],
      "execution_count": null,
      "outputs": [
        {
          "output_type": "execute_result",
          "data": {
            "text/html": [
              "<div>\n",
              "<style scoped>\n",
              "    .dataframe tbody tr th:only-of-type {\n",
              "        vertical-align: middle;\n",
              "    }\n",
              "\n",
              "    .dataframe tbody tr th {\n",
              "        vertical-align: top;\n",
              "    }\n",
              "\n",
              "    .dataframe thead th {\n",
              "        text-align: right;\n",
              "    }\n",
              "</style>\n",
              "<table border=\"1\" class=\"dataframe\">\n",
              "  <thead>\n",
              "    <tr style=\"text-align: right;\">\n",
              "      <th></th>\n",
              "      <th>message</th>\n",
              "      <th>label</th>\n",
              "    </tr>\n",
              "  </thead>\n",
              "  <tbody>\n",
              "    <tr>\n",
              "      <th>10308</th>\n",
              "      <td>sufferers depression aren't sad feel persistent nagging anxiety</td>\n",
              "      <td>1</td>\n",
              "    </tr>\n",
              "    <tr>\n",
              "      <th>10309</th>\n",
              "      <td>depression g herbo mood i'm stressing people don't deserve</td>\n",
              "      <td>1</td>\n",
              "    </tr>\n",
              "    <tr>\n",
              "      <th>10310</th>\n",
              "      <td>depression succumbs brain makes feel like you'll</td>\n",
              "      <td>1</td>\n",
              "    </tr>\n",
              "    <tr>\n",
              "      <th>10311</th>\n",
              "      <td>ketamine nasal spray shows promise depression suicide health ãâ</td>\n",
              "      <td>1</td>\n",
              "    </tr>\n",
              "    <tr>\n",
              "      <th>10312</th>\n",
              "      <td>dont mistake bad day depression 'em</td>\n",
              "      <td>1</td>\n",
              "    </tr>\n",
              "  </tbody>\n",
              "</table>\n",
              "</div>"
            ],
            "text/plain": [
              "                                                                message  label\n",
              "10308  sufferers depression aren't sad feel persistent nagging anxiety   1    \n",
              "10309  depression g herbo mood i'm stressing people don't deserve        1    \n",
              "10310  depression succumbs brain makes feel like you'll                  1    \n",
              "10311  ketamine nasal spray shows promise depression suicide health ãâ  1    \n",
              "10312  dont mistake bad day depression 'em                               1    "
            ]
          },
          "metadata": {},
          "execution_count": 12
        }
      ]
    },
    {
      "cell_type": "code",
      "metadata": {
        "id": "UjkDCN3eG8RZ"
      },
      "source": [
        "import spacy\n",
        "nlp = spacy.load('en_core_web_sm')\n",
        "spacy_stopwords = spacy.lang.en.stop_words.STOP_WORDS\n",
        "df['message'] = df['message'].apply(lambda x: ' '.join([word for word in x.split() if word not in (spacy_stopwords)]))\n",
        "def lemmatize_text(text):\n",
        "    text = nlp(text)\n",
        "    lemmatized = list()\n",
        "    for word in text:\n",
        "        lemma = word.lemma_.strip()\n",
        "        if lemma:\n",
        "            lemmatized.append(lemma)\n",
        "    return \" \".join(lemmatized)\n",
        "\n",
        "\n",
        "df['message'] = df['message'].apply(lemmatize_text)"
      ],
      "execution_count": null,
      "outputs": []
    },
    {
      "cell_type": "code",
      "metadata": {
        "id": "0vHl5UHtk_0h",
        "colab": {
          "base_uri": "https://localhost:8080/",
          "height": 202
        },
        "outputId": "a73df85c-01f4-4dce-fee4-dcfedbf99449"
      },
      "source": [
        "df.head()"
      ],
      "execution_count": null,
      "outputs": [
        {
          "output_type": "execute_result",
          "data": {
            "text/html": [
              "<div>\n",
              "<style scoped>\n",
              "    .dataframe tbody tr th:only-of-type {\n",
              "        vertical-align: middle;\n",
              "    }\n",
              "\n",
              "    .dataframe tbody tr th {\n",
              "        vertical-align: top;\n",
              "    }\n",
              "\n",
              "    .dataframe thead th {\n",
              "        text-align: right;\n",
              "    }\n",
              "</style>\n",
              "<table border=\"1\" class=\"dataframe\">\n",
              "  <thead>\n",
              "    <tr style=\"text-align: right;\">\n",
              "      <th></th>\n",
              "      <th>message</th>\n",
              "      <th>label</th>\n",
              "    </tr>\n",
              "  </thead>\n",
              "  <tbody>\n",
              "    <tr>\n",
              "      <th>0</th>\n",
              "      <td>real good moment missssssssss</td>\n",
              "      <td>0</td>\n",
              "    </tr>\n",
              "    <tr>\n",
              "      <th>1</th>\n",
              "      <td>reading manga</td>\n",
              "      <td>0</td>\n",
              "    </tr>\n",
              "    <tr>\n",
              "      <th>3</th>\n",
              "      <td>need send -PRON- accountant tomorrow oddly be not refer taxis support evidence</td>\n",
              "      <td>0</td>\n",
              "    </tr>\n",
              "    <tr>\n",
              "      <th>4</th>\n",
              "      <td>add myspace myspacecomlookthunder</td>\n",
              "      <td>0</td>\n",
              "    </tr>\n",
              "    <tr>\n",
              "      <th>5</th>\n",
              "      <td>sleepy good times tonight</td>\n",
              "      <td>0</td>\n",
              "    </tr>\n",
              "  </tbody>\n",
              "</table>\n",
              "</div>"
            ],
            "text/plain": [
              "                                                                          message  \\\n",
              "0  real good moment missssssssss                                                    \n",
              "1  reading manga                                                                    \n",
              "3  need send -PRON- accountant tomorrow oddly be not refer taxis support evidence   \n",
              "4  add myspace myspacecomlookthunder                                                \n",
              "5  sleepy good times tonight                                                        \n",
              "\n",
              "   label  \n",
              "0  0      \n",
              "1  0      \n",
              "3  0      \n",
              "4  0      \n",
              "5  0      "
            ]
          },
          "metadata": {},
          "execution_count": 14
        }
      ]
    },
    {
      "cell_type": "code",
      "metadata": {
        "id": "-38bsDUKJq2k"
      },
      "source": [
        "df = df.sample(frac = 1., random_state = 5).reset_index(drop = True)"
      ],
      "execution_count": null,
      "outputs": []
    },
    {
      "cell_type": "code",
      "metadata": {
        "id": "qgcAZ_cbK5Hc"
      },
      "source": [
        "df.to_csv('Cleaned.csv',index=False)"
      ],
      "execution_count": null,
      "outputs": []
    },
    {
      "cell_type": "code",
      "metadata": {
        "id": "Q6kZMh-3nR8D",
        "colab": {
          "base_uri": "https://localhost:8080/"
        },
        "outputId": "91db01a1-b047-491b-a61b-eda86e59b24a"
      },
      "source": [
        "data = pd.read_csv('Dataset 1.csv', skip_blank_lines=True, engine = 'python')\n",
        "data = data.sample(frac = 1., random_state = 5).reset_index(drop = True)\n",
        "print(data['label'].value_counts(0))"
      ],
      "execution_count": 10,
      "outputs": [
        {
          "output_type": "stream",
          "name": "stdout",
          "text": [
            "0    8000\n",
            "1    2314\n",
            "Name: label, dtype: int64\n"
          ]
        }
      ]
    },
    {
      "cell_type": "code",
      "metadata": {
        "id": "KcGD8gwItnJV",
        "colab": {
          "base_uri": "https://localhost:8080/"
        },
        "outputId": "4e5bf3ad-ac8b-4e56-e28b-e5b38437bb59"
      },
      "source": [
        "EPOCH = 10\n",
        "split_val = int(0.2 * data.shape[0])\n",
        "test = data.iloc[-split_val :]\n",
        "val = data.iloc[- 2 * split_val : -split_val]\n",
        "train = data.iloc[: - 2 * split_val]\n",
        "\n",
        "\n",
        "print(train['label'].value_counts())\n",
        "# train\n",
        "\n",
        "print(val['label'].value_counts())\n",
        "# validX\n",
        "\n",
        "print(test['label'].value_counts())\n",
        "# test"
      ],
      "execution_count": 11,
      "outputs": [
        {
          "output_type": "stream",
          "name": "stdout",
          "text": [
            "0    4800\n",
            "1    1390\n",
            "Name: label, dtype: int64\n",
            "0    1595\n",
            "1    467 \n",
            "Name: label, dtype: int64\n",
            "0    1605\n",
            "1    457 \n",
            "Name: label, dtype: int64\n"
          ]
        }
      ]
    },
    {
      "cell_type": "code",
      "metadata": {
        "id": "X5JOOC0xuCrx",
        "colab": {
          "base_uri": "https://localhost:8080/"
        },
        "outputId": "d8192aeb-eecf-4314-d055-21fb0a353ed1"
      },
      "source": [
        "trainX = np.array(train.iloc[:, 0])\n",
        "trainY = np.array(train.iloc[:, 1])\n",
        "valX = np.array(val.iloc[:, 0])\n",
        "valY = np.array(val.iloc[:, 1])\n",
        "testX = np.array(test.iloc[:, 0])\n",
        "testY = np.array(test.iloc[:, 1])\n"
      ],
      "execution_count": 14,
      "outputs": [
        {
          "output_type": "stream",
          "name": "stdout",
          "text": [
            "(6190,)\n",
            "(6190,)\n",
            "(2062,)\n",
            "(2062,)\n",
            "(2062,)\n",
            "(2062,)\n"
          ]
        }
      ]
    },
    {
      "cell_type": "code",
      "metadata": {
        "id": "vDyxSpGRuHa6",
        "colab": {
          "base_uri": "https://localhost:8080/"
        },
        "outputId": "6b537dc2-7279-4bce-80d7-0004e869a677"
      },
      "source": [
        "tokenizer = tf.keras.preprocessing.text.Tokenizer(num_words = 10000, filters = '!\"#$%&()*+,-./:;<=>?@[\\\\]^_`{|}~\\t\\n')\n",
        "tokenizer.fit_on_texts(trainX)\n",
        "train_seqs = tokenizer.texts_to_sequences(trainX)\n",
        "val_seqs = tokenizer.texts_to_sequences(valX)\n",
        "test_seqs = tokenizer.texts_to_sequences(testX)\n",
        "\n",
        "train_seqs = tf.keras.preprocessing.sequence.pad_sequences(train_seqs)\n",
        "val_seqs = tf.keras.preprocessing.sequence.pad_sequences(val_seqs)\n",
        "test_seqs = tf.keras.preprocessing.sequence.pad_sequences(test_seqs)\n",
        "print(train_seqs.shape)\n",
        "print(val_seqs.shape)\n",
        "print(test_seqs.shape)"
      ],
      "execution_count": 18,
      "outputs": [
        {
          "output_type": "stream",
          "name": "stdout",
          "text": [
            "(6190, 84)\n",
            "(2062, 65)\n",
            "(2062, 64)\n"
          ]
        }
      ]
    },
    {
      "cell_type": "code",
      "metadata": {
        "id": "3MLfkTSfqR2P"
      },
      "source": [
        ""
      ],
      "execution_count": null,
      "outputs": []
    },
    {
      "cell_type": "code",
      "metadata": {
        "colab": {
          "base_uri": "https://localhost:8080/"
        },
        "id": "x3CXSjwnvnwX",
        "outputId": "5a88d578-00f9-4526-f022-7b613ef78146"
      },
      "source": [
        "model = Sequential()\n",
        "model.add(layers.Embedding(len(tokenizer.word_index), 128))\n",
        "model.add(layers.SimpleRNN(256, return_sequences = True, dropout = 0.2))\n",
        "model.add(layers.SimpleRNN(128, return_sequences = True, dropout = 0.2))\n",
        "model.add(layers.SimpleRNN(64, return_sequences = True, dropout = 0.2))\n",
        "model.add(layers.SimpleRNN(8, return_sequences = True, dropout = 0.2))\n",
        "model.add(layers.Dense(1, activation = 'sigmoid'))\n",
        "model.compile(loss = 'binary_crossentropy', optimizer = 'adam', metrics = ['accuracy'])\n",
        "model.summary()"
      ],
      "execution_count": 19,
      "outputs": [
        {
          "output_type": "stream",
          "name": "stdout",
          "text": [
            "Model: \"sequential\"\n",
            "_________________________________________________________________\n",
            "Layer (type)                 Output Shape              Param #   \n",
            "=================================================================\n",
            "embedding (Embedding)        (None, None, 128)         2054656   \n",
            "_________________________________________________________________\n",
            "simple_rnn (SimpleRNN)       (None, None, 256)         98560     \n",
            "_________________________________________________________________\n",
            "simple_rnn_1 (SimpleRNN)     (None, None, 128)         49280     \n",
            "_________________________________________________________________\n",
            "simple_rnn_2 (SimpleRNN)     (None, None, 64)          12352     \n",
            "_________________________________________________________________\n",
            "simple_rnn_3 (SimpleRNN)     (None, None, 8)           584       \n",
            "_________________________________________________________________\n",
            "dense (Dense)                (None, None, 1)           9         \n",
            "=================================================================\n",
            "Total params: 2,215,441\n",
            "Trainable params: 2,215,441\n",
            "Non-trainable params: 0\n",
            "_________________________________________________________________\n"
          ]
        }
      ]
    },
    {
      "cell_type": "code",
      "metadata": {
        "colab": {
          "base_uri": "https://localhost:8080/"
        },
        "id": "iYdEtogGuLhz",
        "outputId": "027ac8e0-c820-48da-e4dd-5e8fcd7032eb"
      },
      "source": [
        "history = model.fit(train_seqs, trainY, epochs = EPOCH, validation_data = (val_seqs, valY), verbose = 1)"
      ],
      "execution_count": 20,
      "outputs": [
        {
          "output_type": "stream",
          "name": "stdout",
          "text": [
            "Epoch 1/10\n",
            "194/194 [==============================] - 128s 624ms/step - loss: 0.5392 - accuracy: 0.7717 - val_loss: 0.5350 - val_accuracy: 0.7735\n",
            "Epoch 2/10\n",
            "194/194 [==============================] - 120s 618ms/step - loss: 0.5328 - accuracy: 0.7754 - val_loss: 0.5351 - val_accuracy: 0.7735\n",
            "Epoch 3/10\n",
            "194/194 [==============================] - 121s 625ms/step - loss: 0.5328 - accuracy: 0.7754 - val_loss: 0.5352 - val_accuracy: 0.7735\n",
            "Epoch 4/10\n",
            "194/194 [==============================] - 120s 617ms/step - loss: 0.5327 - accuracy: 0.7756 - val_loss: 0.5350 - val_accuracy: 0.7735\n",
            "Epoch 5/10\n",
            "194/194 [==============================] - 120s 618ms/step - loss: 0.5327 - accuracy: 0.7756 - val_loss: 0.5350 - val_accuracy: 0.7735\n",
            "Epoch 6/10\n",
            "194/194 [==============================] - 120s 619ms/step - loss: 0.5327 - accuracy: 0.7756 - val_loss: 0.5350 - val_accuracy: 0.7735\n",
            "Epoch 7/10\n",
            "194/194 [==============================] - 120s 618ms/step - loss: 0.5326 - accuracy: 0.7756 - val_loss: 0.5350 - val_accuracy: 0.7735\n",
            "Epoch 8/10\n",
            "194/194 [==============================] - 120s 618ms/step - loss: 0.5327 - accuracy: 0.7756 - val_loss: 0.5350 - val_accuracy: 0.7735\n",
            "Epoch 9/10\n",
            "194/194 [==============================] - 119s 615ms/step - loss: 0.5325 - accuracy: 0.7756 - val_loss: 0.5350 - val_accuracy: 0.7735\n",
            "Epoch 10/10\n",
            "194/194 [==============================] - 117s 602ms/step - loss: 0.5327 - accuracy: 0.7756 - val_loss: 0.5351 - val_accuracy: 0.7735\n"
          ]
        }
      ]
    },
    {
      "cell_type": "code",
      "metadata": {
        "colab": {
          "base_uri": "https://localhost:8080/",
          "height": 301
        },
        "id": "kjNtABmvkar1",
        "outputId": "f341d2ec-e201-4fab-a996-ad04662dd141"
      },
      "source": [
        "plt.plot(history.history[\"accuracy\"])\n",
        "plt.plot(history.history[\"val_accuracy\"])\n",
        "plt.xlabel(\"Epochs\")\n",
        "plt.ylabel(\"accuracy\")\n",
        "plt.legend([\"accuracy\", \"val_accuracy\"])\n",
        "plt.show()"
      ],
      "execution_count": 22,
      "outputs": [
        {
          "output_type": "display_data",
          "data": {
            "image/png": "[encoded data removed]",
            "text/plain": [
              "<Figure size 432x288 with 1 Axes>"
            ]
          },
          "metadata": {}
        }
      ]
    },
    {
      "cell_type": "code",
      "metadata": {
        "colab": {
          "base_uri": "https://localhost:8080/",
          "height": 301
        },
        "id": "NtI9jCwJkdC3",
        "outputId": "333e2b04-2745-44d4-aba4-483fab627ddc"
      },
      "source": [
        "plt.plot(history.history[\"loss\"])\n",
        "plt.plot(history.history[\"val_loss\"])\n",
        "plt.xlabel(\"Epochs\")\n",
        "plt.ylabel(\"Loss\")\n",
        "plt.legend([\"Loss\", \"val_loss\"])\n",
        "plt.show()"
      ],
      "execution_count": 23,
      "outputs": [
        {
          "output_type": "display_data",
          "data": {
            "image/png": "[encoded data removed]",
            "text/plain": [
              "<Figure size 432x288 with 1 Axes>"
            ]
          },
          "metadata": {}
        }
      ]
    },
    {
      "cell_type": "code",
      "metadata": {
        "colab": {
          "base_uri": "https://localhost:8080/"
        },
        "id": "e4TVPl8hk7VT",
        "outputId": "a07b7567-1c1a-4dbf-8a03-cf80aaa7d218"
      },
      "source": [
        "y_pred = model.predict(val_seqs)\n",
        "y_pred = (y_pred > 0.5)\n",
        "len(y_pred)\n",
        "len(valY)\n",
        "loss, accuracy = model.evaluate(val_seqs, valY, verbose = 1)\n",
        "print('Validation Loss:', loss)\n",
        "print('Validation Accuracy:', accuracy)"
      ],
      "execution_count": 44,
      "outputs": [
        {
          "output_type": "stream",
          "name": "stdout",
          "text": [
            "65/65 [==============================] - 2s 27ms/step - loss: 0.5351 - accuracy: 0.7735\n",
            "Validation Loss: 0.5351473689079285\n",
            "Validation Accuracy: 0.773520827293396\n"
          ]
        }
      ]
    },
    {
      "cell_type": "code",
      "metadata": {
        "colab": {
          "base_uri": "https://localhost:8080/"
        },
        "id": "pckfmxJypwHz",
        "outputId": "00142529-28f8-437d-ff6d-ea51a52194ec"
      },
      "source": [
        "y_pred = model.predict(test_seqs)\n",
        "y_pred = np.where(y_pred > 0.5)\n",
        "loss, accuracy = model.evaluate(test_seqs, testY, verbose = 1)\n",
        "print('Test Loss:', loss)\n",
        "print('Test Accuracy:', accuracy)"
      ],
      "execution_count": 46,
      "outputs": [
        {
          "output_type": "stream",
          "name": "stdout",
          "text": [
            "65/65 [==============================] - 2s 28ms/step - loss: 0.5284 - accuracy: 0.7789\n",
            "Test Loss: 0.5283618569374084\n",
            "Test Accuracy: 0.7788555026054382\n"
          ]
        }
      ]
    },
    {
      "cell_type": "code",
      "metadata": {
        "colab": {
          "base_uri": "https://localhost:8080/"
        },
        "id": "QynyMZDyo4Hr",
        "outputId": "e63f0757-9fe5-4d85-bd8a-62d11c58337e"
      },
      "source": [
        "valY.shape"
      ],
      "execution_count": 42,
      "outputs": [
        {
          "output_type": "execute_result",
          "data": {
            "text/plain": [
              "(2062,)"
            ]
          },
          "metadata": {},
          "execution_count": 42
        }
      ]
    },
    {
      "cell_type": "code",
      "metadata": {
        "id": "FV4qLaehpAW0"
      },
      "source": [
        "y_pred = y_pred.reshape((y_pred.shape[0]*y_pred.shape[1]), y_pred.shape[2])\n",
        "y_pred = y_pred.transpose()"
      ],
      "execution_count": 40,
      "outputs": []
    },
    {
      "cell_type": "code",
      "metadata": {
        "colab": {
          "base_uri": "https://localhost:8080/"
        },
        "id": "WFFrZAt3pgjo",
        "outputId": "7b882a9a-e965-49f4-dbcb-1ea0eef591a3"
      },
      "source": [
        "y_pred.shape"
      ],
      "execution_count": 41,
      "outputs": [
        {
          "output_type": "execute_result",
          "data": {
            "text/plain": [
              "(1, 134030)"
            ]
          },
          "metadata": {},
          "execution_count": 41
        }
      ]
    },
    {
      "cell_type": "code",
      "metadata": {
        "colab": {
          "base_uri": "https://localhost:8080/",
          "height": 368
        },
        "id": "JfYDHY0om0_a",
        "outputId": "8e462276-eb33-4ce4-e7ea-c224f67119a8"
      },
      "source": [
        "group_names = ['True Neg','False Pos','False Neg','True Pos']\n",
        "group_counts = ['{0:0.0f}'.format(value) for value in\n",
        "                confusion_matrix(valY, y_pred).flatten()]\n",
        "group_percentages = ['{0:.2%}'.format(value) for value in\n",
        "                     confusion_matrix(valY, y_pred).flatten()/np.sum(confusion_matrix(valY, y_pred))]\n",
        "labels = [f'{v1}\\n{v2}\\n{v3}' for v1, v2, v3 in\n",
        "          zip(group_names,group_counts,group_percentages)]\n",
        "labels = np.asarray(labels).reshape(2,2)\n",
        "sns.heatmap(confusion_matrix(valY, y_pred), annot=labels, fmt='', cmap='Blues')"
      ],
      "execution_count": 29,
      "outputs": [
        {
          "output_type": "error",
          "ename": "ValueError",
          "evalue": "ignored",
          "traceback": [
            "\u001b[0;31m---------------------------------------------------------------------------\u001b[0m",
            "\u001b[0;31mValueError\u001b[0m                                Traceback (most recent call last)",
            "\u001b[0;32m<ipython-input-29-eae2040e91e2>\u001b[0m in \u001b[0;36m<module>\u001b[0;34m()\u001b[0m\n\u001b[1;32m      1\u001b[0m \u001b[0mgroup_names\u001b[0m \u001b[0;34m=\u001b[0m \u001b[0;34m[\u001b[0m\u001b[0;34m'True Neg'\u001b[0m\u001b[0;34m,\u001b[0m\u001b[0;34m'False Pos'\u001b[0m\u001b[0;34m,\u001b[0m\u001b[0;34m'False Neg'\u001b[0m\u001b[0;34m,\u001b[0m\u001b[0;34m'True Pos'\u001b[0m\u001b[0;34m]\u001b[0m\u001b[0;34m\u001b[0m\u001b[0;34m\u001b[0m\u001b[0m\n\u001b[1;32m      2\u001b[0m group_counts = ['{0:0.0f}'.format(value) for value in\n\u001b[0;32m----> 3\u001b[0;31m                 confusion_matrix(valY, y_pred).flatten()]\n\u001b[0m\u001b[1;32m      4\u001b[0m group_percentages = ['{0:.2%}'.format(value) for value in\n\u001b[1;32m      5\u001b[0m                      confusion_matrix(valY, y_pred).flatten()/np.sum(confusion_matrix(valY, y_pred))]\n",
            "\u001b[0;32m/usr/local/lib/python3.7/dist-packages/sklearn/metrics/_classification.py\u001b[0m in \u001b[0;36mconfusion_matrix\u001b[0;34m(y_true, y_pred, labels, sample_weight, normalize)\u001b[0m\n\u001b[1;32m    266\u001b[0m \u001b[0;34m\u001b[0m\u001b[0m\n\u001b[1;32m    267\u001b[0m     \"\"\"\n\u001b[0;32m--> 268\u001b[0;31m     \u001b[0my_type\u001b[0m\u001b[0;34m,\u001b[0m \u001b[0my_true\u001b[0m\u001b[0;34m,\u001b[0m \u001b[0my_pred\u001b[0m \u001b[0;34m=\u001b[0m \u001b[0m_check_targets\u001b[0m\u001b[0;34m(\u001b[0m\u001b[0my_true\u001b[0m\u001b[0;34m,\u001b[0m \u001b[0my_pred\u001b[0m\u001b[0;34m)\u001b[0m\u001b[0;34m\u001b[0m\u001b[0;34m\u001b[0m\u001b[0m\n\u001b[0m\u001b[1;32m    269\u001b[0m     \u001b[0;32mif\u001b[0m \u001b[0my_type\u001b[0m \u001b[0;32mnot\u001b[0m \u001b[0;32min\u001b[0m \u001b[0;34m(\u001b[0m\u001b[0;34m\"binary\"\u001b[0m\u001b[0;34m,\u001b[0m \u001b[0;34m\"multiclass\"\u001b[0m\u001b[0;34m)\u001b[0m\u001b[0;34m:\u001b[0m\u001b[0;34m\u001b[0m\u001b[0;34m\u001b[0m\u001b[0m\n\u001b[1;32m    270\u001b[0m         \u001b[0;32mraise\u001b[0m \u001b[0mValueError\u001b[0m\u001b[0;34m(\u001b[0m\u001b[0;34m\"%s is not supported\"\u001b[0m \u001b[0;34m%\u001b[0m \u001b[0my_type\u001b[0m\u001b[0;34m)\u001b[0m\u001b[0;34m\u001b[0m\u001b[0;34m\u001b[0m\u001b[0m\n",
            "\u001b[0;32m/usr/local/lib/python3.7/dist-packages/sklearn/metrics/_classification.py\u001b[0m in \u001b[0;36m_check_targets\u001b[0;34m(y_true, y_pred)\u001b[0m\n\u001b[1;32m     88\u001b[0m     \u001b[0;32mif\u001b[0m \u001b[0mlen\u001b[0m\u001b[0;34m(\u001b[0m\u001b[0my_type\u001b[0m\u001b[0;34m)\u001b[0m \u001b[0;34m>\u001b[0m \u001b[0;36m1\u001b[0m\u001b[0;34m:\u001b[0m\u001b[0;34m\u001b[0m\u001b[0;34m\u001b[0m\u001b[0m\n\u001b[1;32m     89\u001b[0m         raise ValueError(\"Classification metrics can't handle a mix of {0} \"\n\u001b[0;32m---> 90\u001b[0;31m                          \"and {1} targets\".format(type_true, type_pred))\n\u001b[0m\u001b[1;32m     91\u001b[0m \u001b[0;34m\u001b[0m\u001b[0m\n\u001b[1;32m     92\u001b[0m     \u001b[0;31m# We can't have more than one value on y_type => The set is no more needed\u001b[0m\u001b[0;34m\u001b[0m\u001b[0;34m\u001b[0m\u001b[0;34m\u001b[0m\u001b[0m\n",
            "\u001b[0;31mValueError\u001b[0m: Classification metrics can't handle a mix of binary and unknown targets"
          ]
        }
      ]
    },
    {
      "cell_type": "code",
      "metadata": {
        "colab": {
          "base_uri": "https://localhost:8080/"
        },
        "id": "RRcAe16fp_Xf",
        "outputId": "19c2ddf6-a919-469f-8a29-037219613fbe"
      },
      "source": [
        "data = pd.read_csv('Cleaned.csv', skip_blank_lines=True, engine = 'python', dtype=str)\n",
        "data = data.sample(frac = 1., random_state = 5).reset_index(drop = True)\n",
        "print(data['label'].value_counts(0))\n"
      ],
      "execution_count": 51,
      "outputs": [
        {
          "output_type": "stream",
          "name": "stdout",
          "text": [
            "0    7983\n",
            "1    2311\n",
            "Name: label, dtype: int64\n"
          ]
        }
      ]
    },
    {
      "cell_type": "code",
      "metadata": {
        "id": "zexxkp-HssXX"
      },
      "source": [
        "data['message'].astype(str)\n",
        "data['label'].astype(str)"
      ],
      "execution_count": null,
      "outputs": []
    },
    {
      "cell_type": "code",
      "metadata": {
        "colab": {
          "base_uri": "https://localhost:8080/"
        },
        "id": "Wk6cwB6_qIbo",
        "outputId": "c6ce8c5c-1c22-4bda-e35a-32de634eaba1"
      },
      "source": [
        "EPOCH = 4\n",
        "split_val = int(0.2 * data.shape[0])\n",
        "test = data.iloc[-split_val :]\n",
        "val = data.iloc[- 2 * split_val : -split_val]\n",
        "train = data.iloc[: - 2 * split_val]\n",
        "print(train['label'].value_counts())\n",
        "print(val['label'].value_counts())\n",
        "print(test['label'].value_counts())\n"
      ],
      "execution_count": 57,
      "outputs": [
        {
          "output_type": "stream",
          "name": "stdout",
          "text": [
            "0    4772\n",
            "1    1406\n",
            "Name: label, dtype: int64\n",
            "0    1614\n",
            "1    444 \n",
            "Name: label, dtype: int64\n",
            "0    1597\n",
            "1    461 \n",
            "Name: label, dtype: int64\n"
          ]
        }
      ]
    },
    {
      "cell_type": "code",
      "metadata": {
        "colab": {
          "base_uri": "https://localhost:8080/"
        },
        "id": "zGnoGEnFqO9q",
        "outputId": "9c9ff0d7-7858-44e4-e5e7-528b54e6e8c7"
      },
      "source": [
        "trainX = np.array(train.iloc[:, 0])\n",
        "trainY = np.array(train.iloc[:, 1])\n",
        "valX = np.array(val.iloc[:, 0])\n",
        "valY = np.array(val.iloc[:, 1])\n",
        "testX = np.array(test.iloc[:, 0])\n",
        "testY = np.array(test.iloc[:, 1])\n",
        "\n",
        "\n",
        "\n",
        "\n",
        "print(trainX.shape)\n",
        "print(trainY.shape)\n",
        "# print(trainX)\n",
        "# print(trainY)\n",
        "print(valX.shape)\n",
        "print(valY.shape)\n",
        "# print(validX)\n",
        "# print(validY)\n",
        "print(testX.shape)\n",
        "print(testY.shape)\n",
        "# print(testX)\n",
        "# print(testY)"
      ],
      "execution_count": 58,
      "outputs": [
        {
          "output_type": "stream",
          "name": "stdout",
          "text": [
            "(6178,)\n",
            "(6178,)\n",
            "(2058,)\n",
            "(2058,)\n",
            "(2058,)\n",
            "(2058,)\n"
          ]
        }
      ]
    },
    {
      "cell_type": "code",
      "metadata": {
        "colab": {
          "base_uri": "https://localhost:8080/",
          "height": 368
        },
        "id": "usmT1d40qS74",
        "outputId": "0e2412ab-14f8-464b-bf87-cd50f1fc13c1"
      },
      "source": [
        "\n",
        "tokenizer = tf.keras.preprocessing.text.Tokenizer(num_words = 10000, filters = '!\"#$%&()*+,-./:;<=>?@[\\\\]^_`{|}~\\t\\n')\n",
        "tokenizer.fit_on_texts(trainX)\n",
        "train_seqs = tokenizer.texts_to_sequences(trainX)\n",
        "val_seqs = tokenizer.texts_to_sequences(valX)\n",
        "test_seqs = tokenizer.texts_to_sequences(testX)\n",
        "\n",
        "train_seqs = tf.keras.preprocessing.sequence.pad_sequences(train_seqs)\n",
        "val_seqs = tf.keras.preprocessing.sequence.pad_sequences(val_seqs)\n",
        "test_seqs = tf.keras.preprocessing.sequence.pad_sequences(test_seqs)\n",
        "print(train_seqs.shape)\n",
        "print(val_seqs.shape)\n",
        "print(test_seqs.shape)"
      ],
      "execution_count": 60,
      "outputs": [
        {
          "output_type": "error",
          "ename": "AttributeError",
          "evalue": "ignored",
          "traceback": [
            "\u001b[0;31m---------------------------------------------------------------------------\u001b[0m",
            "\u001b[0;31mAttributeError\u001b[0m                            Traceback (most recent call last)",
            "\u001b[0;32m<ipython-input-60-b4912bdc5599>\u001b[0m in \u001b[0;36m<module>\u001b[0;34m()\u001b[0m\n\u001b[1;32m      1\u001b[0m \u001b[0;34m\u001b[0m\u001b[0m\n\u001b[1;32m      2\u001b[0m \u001b[0mtokenizer\u001b[0m \u001b[0;34m=\u001b[0m \u001b[0mtf\u001b[0m\u001b[0;34m.\u001b[0m\u001b[0mkeras\u001b[0m\u001b[0;34m.\u001b[0m\u001b[0mpreprocessing\u001b[0m\u001b[0;34m.\u001b[0m\u001b[0mtext\u001b[0m\u001b[0;34m.\u001b[0m\u001b[0mTokenizer\u001b[0m\u001b[0;34m(\u001b[0m\u001b[0mnum_words\u001b[0m \u001b[0;34m=\u001b[0m \u001b[0;36m10000\u001b[0m\u001b[0;34m)\u001b[0m\u001b[0;34m\u001b[0m\u001b[0;34m\u001b[0m\u001b[0m\n\u001b[0;32m----> 3\u001b[0;31m \u001b[0mtokenizer\u001b[0m\u001b[0;34m.\u001b[0m\u001b[0mfit_on_texts\u001b[0m\u001b[0;34m(\u001b[0m\u001b[0mtrainX\u001b[0m\u001b[0;34m)\u001b[0m\u001b[0;34m\u001b[0m\u001b[0;34m\u001b[0m\u001b[0m\n\u001b[0m\u001b[1;32m      4\u001b[0m \u001b[0mtrain_seqs\u001b[0m \u001b[0;34m=\u001b[0m \u001b[0mtokenizer\u001b[0m\u001b[0;34m.\u001b[0m\u001b[0mtexts_to_sequences\u001b[0m\u001b[0;34m(\u001b[0m\u001b[0mtrainX\u001b[0m\u001b[0;34m)\u001b[0m\u001b[0;34m\u001b[0m\u001b[0;34m\u001b[0m\u001b[0m\n\u001b[1;32m      5\u001b[0m \u001b[0mval_seqs\u001b[0m \u001b[0;34m=\u001b[0m \u001b[0mtokenizer\u001b[0m\u001b[0;34m.\u001b[0m\u001b[0mtexts_to_sequences\u001b[0m\u001b[0;34m(\u001b[0m\u001b[0mvalX\u001b[0m\u001b[0;34m)\u001b[0m\u001b[0;34m\u001b[0m\u001b[0;34m\u001b[0m\u001b[0m\n",
            "\u001b[0;32m/usr/local/lib/python3.7/dist-packages/keras_preprocessing/text.py\u001b[0m in \u001b[0;36mfit_on_texts\u001b[0;34m(self, texts)\u001b[0m\n\u001b[1;32m    223\u001b[0m                                             \u001b[0mself\u001b[0m\u001b[0;34m.\u001b[0m\u001b[0mfilters\u001b[0m\u001b[0;34m,\u001b[0m\u001b[0;34m\u001b[0m\u001b[0;34m\u001b[0m\u001b[0m\n\u001b[1;32m    224\u001b[0m                                             \u001b[0mself\u001b[0m\u001b[0;34m.\u001b[0m\u001b[0mlower\u001b[0m\u001b[0;34m,\u001b[0m\u001b[0;34m\u001b[0m\u001b[0;34m\u001b[0m\u001b[0m\n\u001b[0;32m--> 225\u001b[0;31m                                             self.split)\n\u001b[0m\u001b[1;32m    226\u001b[0m             \u001b[0;32mfor\u001b[0m \u001b[0mw\u001b[0m \u001b[0;32min\u001b[0m \u001b[0mseq\u001b[0m\u001b[0;34m:\u001b[0m\u001b[0;34m\u001b[0m\u001b[0;34m\u001b[0m\u001b[0m\n\u001b[1;32m    227\u001b[0m                 \u001b[0;32mif\u001b[0m \u001b[0mw\u001b[0m \u001b[0;32min\u001b[0m \u001b[0mself\u001b[0m\u001b[0;34m.\u001b[0m\u001b[0mword_counts\u001b[0m\u001b[0;34m:\u001b[0m\u001b[0;34m\u001b[0m\u001b[0;34m\u001b[0m\u001b[0m\n",
            "\u001b[0;32m/usr/local/lib/python3.7/dist-packages/keras_preprocessing/text.py\u001b[0m in \u001b[0;36mtext_to_word_sequence\u001b[0;34m(text, filters, lower, split)\u001b[0m\n\u001b[1;32m     41\u001b[0m     \"\"\"\n\u001b[1;32m     42\u001b[0m     \u001b[0;32mif\u001b[0m \u001b[0mlower\u001b[0m\u001b[0;34m:\u001b[0m\u001b[0;34m\u001b[0m\u001b[0;34m\u001b[0m\u001b[0m\n\u001b[0;32m---> 43\u001b[0;31m         \u001b[0mtext\u001b[0m \u001b[0;34m=\u001b[0m \u001b[0mtext\u001b[0m\u001b[0;34m.\u001b[0m\u001b[0mlower\u001b[0m\u001b[0;34m(\u001b[0m\u001b[0;34m)\u001b[0m\u001b[0;34m\u001b[0m\u001b[0;34m\u001b[0m\u001b[0m\n\u001b[0m\u001b[1;32m     44\u001b[0m \u001b[0;34m\u001b[0m\u001b[0m\n\u001b[1;32m     45\u001b[0m     \u001b[0;32mif\u001b[0m \u001b[0msys\u001b[0m\u001b[0;34m.\u001b[0m\u001b[0mversion_info\u001b[0m \u001b[0;34m<\u001b[0m \u001b[0;34m(\u001b[0m\u001b[0;36m3\u001b[0m\u001b[0;34m,\u001b[0m\u001b[0;34m)\u001b[0m\u001b[0;34m:\u001b[0m\u001b[0;34m\u001b[0m\u001b[0;34m\u001b[0m\u001b[0m\n",
            "\u001b[0;31mAttributeError\u001b[0m: 'float' object has no attribute 'lower'"
          ]
        }
      ]
    }
  ]
}